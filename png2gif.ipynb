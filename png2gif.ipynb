{
 "cells": [
  {
   "cell_type": "code",
   "execution_count": 1,
   "metadata": {},
   "outputs": [],
   "source": [
    "import os\n",
    "import glob\n",
    "import PIL.Image as Image\n",
    "\n",
    "def gen_frame(path):\n",
    "    im = Image.open(path)\n",
    "    alpha = im.getchannel('A')\n",
    "    \n",
    "    # Convert the image into P mode but only use 255 colors in the palette out of 256\n",
    "    im = im.convert('RGB').convert('P', palette=Image.ADAPTIVE, colors=255)\n",
    "\n",
    "    # Set all pixel values below 128 to 255 , and the rest to 0\n",
    "    mask = Image.eval(alpha, lambda a: 255 if a <=10 else 0)\n",
    "\n",
    "    # Paste the color of index 255 and use alpha as a mask\n",
    "    im.paste(255, mask)\n",
    "\n",
    "    # The transparency index is 255\n",
    "    im.info['transparency'] = 255\n",
    "\n",
    "    return im\n"
   ]
  },
  {
   "cell_type": "markdown",
   "metadata": {},
   "source": [
    "### png 透明背景 png2gif"
   ]
  },
  {
   "cell_type": "code",
   "execution_count": 2,
   "metadata": {},
   "outputs": [
    {
     "name": "stdout",
     "output_type": "stream",
     "text": [
      "['pngs/001.png', 'pngs/002.png', 'pngs/003.png', 'pngs/004.png', 'pngs/005.png', 'pngs/006.png', 'pngs/007.png', 'pngs/008.png', 'pngs/009.png', 'pngs/010.png', 'pngs/011.png', 'pngs/012.png', 'pngs/013.png', 'pngs/014.png', 'pngs/015.png', 'pngs/016.png', 'pngs/017.png', 'pngs/018.png', 'pngs/019.png', 'pngs/020.png', 'pngs/021.png', 'pngs/022.png', 'pngs/023.png', 'pngs/024.png', 'pngs/025.png', 'pngs/026.png', 'pngs/027.png', 'pngs/028.png', 'pngs/029.png', 'pngs/030.png', 'pngs/031.png', 'pngs/032.png', 'pngs/033.png', 'pngs/034.png', 'pngs/035.png', 'pngs/036.png', 'pngs/037.png', 'pngs/038.png', 'pngs/039.png', 'pngs/040.png', 'pngs/041.png', 'pngs/042.png', 'pngs/043.png', 'pngs/044.png', 'pngs/045.png', 'pngs/046.png', 'pngs/047.png', 'pngs/048.png', 'pngs/049.png', 'pngs/050.png', 'pngs/051.png', 'pngs/052.png', 'pngs/053.png', 'pngs/054.png', 'pngs/055.png', 'pngs/056.png', 'pngs/057.png', 'pngs/058.png', 'pngs/059.png', 'pngs/060.png', 'pngs/061.png', 'pngs/062.png', 'pngs/063.png', 'pngs/064.png', 'pngs/065.png', 'pngs/066.png', 'pngs/067.png', 'pngs/068.png', 'pngs/069.png', 'pngs/070.png', 'pngs/071.png', 'pngs/072.png', 'pngs/073.png', 'pngs/074.png', 'pngs/075.png', 'pngs/076.png', 'pngs/077.png', 'pngs/078.png', 'pngs/079.png', 'pngs/080.png', 'pngs/081.png', 'pngs/082.png', 'pngs/083.png', 'pngs/084.png', 'pngs/085.png', 'pngs/086.png', 'pngs/087.png', 'pngs/088.png', 'pngs/089.png', 'pngs/090.png', 'pngs/091.png', 'pngs/092.png', 'pngs/093.png', 'pngs/094.png', 'pngs/095.png', 'pngs/096.png', 'pngs/097.png', 'pngs/098.png', 'pngs/099.png', 'pngs/100.png', 'pngs/101.png', 'pngs/102.png', 'pngs/103.png', 'pngs/104.png', 'pngs/105.png', 'pngs/106.png', 'pngs/107.png', 'pngs/108.png', 'pngs/109.png', 'pngs/110.png', 'pngs/111.png', 'pngs/112.png', 'pngs/113.png', 'pngs/114.png', 'pngs/115.png', 'pngs/116.png', 'pngs/117.png', 'pngs/118.png', 'pngs/119.png', 'pngs/120.png', 'pngs/121.png', 'pngs/122.png', 'pngs/123.png', 'pngs/124.png', 'pngs/125.png', 'pngs/126.png', 'pngs/127.png', 'pngs/128.png', 'pngs/129.png', 'pngs/130.png', 'pngs/131.png', 'pngs/132.png', 'pngs/133.png', 'pngs/134.png', 'pngs/135.png', 'pngs/136.png', 'pngs/137.png', 'pngs/138.png', 'pngs/139.png', 'pngs/140.png', 'pngs/141.png', 'pngs/142.png', 'pngs/143.png', 'pngs/144.png', 'pngs/145.png', 'pngs/146.png', 'pngs/147.png', 'pngs/148.png', 'pngs/149.png', 'pngs/150.png', 'pngs/151.png', 'pngs/152.png', 'pngs/153.png', 'pngs/154.png', 'pngs/155.png', 'pngs/156.png', 'pngs/157.png', 'pngs/158.png', 'pngs/159.png', 'pngs/160.png', 'pngs/161.png', 'pngs/162.png', 'pngs/163.png', 'pngs/164.png', 'pngs/165.png', 'pngs/166.png', 'pngs/167.png', 'pngs/168.png', 'pngs/169.png', 'pngs/170.png', 'pngs/171.png', 'pngs/172.png', 'pngs/173.png', 'pngs/174.png', 'pngs/175.png', 'pngs/176.png', 'pngs/177.png', 'pngs/178.png', 'pngs/179.png', 'pngs/180.png', 'pngs/181.png', 'pngs/182.png', 'pngs/183.png', 'pngs/184.png', 'pngs/185.png', 'pngs/186.png', 'pngs/187.png', 'pngs/188.png', 'pngs/189.png', 'pngs/190.png', 'pngs/191.png', 'pngs/192.png', 'pngs/193.png', 'pngs/194.png', 'pngs/195.png', 'pngs/196.png', 'pngs/197.png', 'pngs/198.png', 'pngs/199.png', 'pngs/200.png', 'pngs/201.png', 'pngs/202.png', 'pngs/203.png', 'pngs/204.png', 'pngs/205.png', 'pngs/206.png', 'pngs/207.png', 'pngs/208.png', 'pngs/209.png', 'pngs/210.png', 'pngs/211.png', 'pngs/212.png', 'pngs/213.png', 'pngs/214.png', 'pngs/215.png', 'pngs/216.png', 'pngs/217.png', 'pngs/218.png', 'pngs/219.png', 'pngs/220.png', 'pngs/221.png', 'pngs/222.png', 'pngs/223.png', 'pngs/224.png', 'pngs/225.png', 'pngs/226.png', 'pngs/227.png', 'pngs/228.png', 'pngs/229.png', 'pngs/230.png', 'pngs/231.png', 'pngs/232.png', 'pngs/233.png', 'pngs/234.png', 'pngs/235.png', 'pngs/236.png', 'pngs/237.png', 'pngs/238.png', 'pngs/239.png', 'pngs/240.png']\n"
     ]
    }
   ],
   "source": [
    "fp_in = sorted(glob.glob(\"pngs/*.png\"),key=lambda x:int(x.split('.')[0].split('/')[1]))\n",
    "print(fp_in)\n",
    "fp_out = \"c13_png.gif\"\n",
    "imgs = [gen_frame(f) for f in fp_in]\n",
    "imgs[0].save(fp=fp_out, format='GIF', append_images=imgs[1:],optimize=True,disposal=2,\n",
    "         save_all=True, duration=120, loop=0)"
   ]
  },
  {
   "cell_type": "markdown",
   "metadata": {},
   "source": []
  }
 ],
 "metadata": {
  "kernelspec": {
   "display_name": "Python 3 (ipykernel)",
   "language": "python",
   "name": "python3"
  },
  "language_info": {
   "codemirror_mode": {
    "name": "ipython",
    "version": 3
   },
   "file_extension": ".py",
   "mimetype": "text/x-python",
   "name": "python",
   "nbconvert_exporter": "python",
   "pygments_lexer": "ipython3",
   "version": "3.9.12"
  }
 },
 "nbformat": 4,
 "nbformat_minor": 4
}
